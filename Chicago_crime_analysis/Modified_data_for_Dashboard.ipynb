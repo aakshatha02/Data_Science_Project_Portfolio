{
 "cells": [
  {
   "attachments": {},
   "cell_type": "markdown",
   "metadata": {},
   "source": [
    "#### This python file creates the new dataset which is used for creating streamlit dashboard."
   ]
  },
  {
   "cell_type": "code",
   "execution_count": 1,
   "metadata": {},
   "outputs": [
    {
     "name": "stderr",
     "output_type": "stream",
     "text": [
      "/Users/akshatha/Library/Python/3.11/lib/python/site-packages/IPython/core/interactiveshell.py:3460: FutureWarning: The `op` parameter is deprecated and will be removed in a future release. Please use the `predicate` parameter instead.\n",
      "  exec(code_obj, self.user_global_ns, self.user_ns)\n"
     ]
    }
   ],
   "source": [
    "import geopandas as gpd\n",
    "import pandas as pd\n",
    "import numpy as np\n",
    "from sklearn.cluster import KMeans\n",
    "from geopy.geocoders import Nominatim\n",
    "# Load the GeoJSON file into a GeoDataFrame\n",
    "neighborhoods = gpd.read_file('Data/Boundaries - Neighborhoods.geojson')\n",
    "# Load the CSV file into a DataFrame\n",
    "crimes = pd.read_csv(\"Data/Crimes_-_2001_to_Present_4.csv\", delimiter= ';')\n",
    "# Convert the DataFrame to a GeoDataFrame\n",
    "def new_data():\n",
    "    crimes_geo = gpd.GeoDataFrame(\n",
    "    crimes,\n",
    "    geometry=gpd.points_from_xy(crimes.Longitude, crimes.Latitude),\n",
    "    crs='EPSG:4326')\n",
    "# Perform the spatial join\n",
    "    joined = gpd.sjoin(crimes_geo, neighborhoods, how='left', op='within')\n",
    "\n",
    "# Extract the desired neighborhood information\n",
    "    crime_neighborhoods = joined[['ID', 'pri_neigh', 'sec_neigh']]\n",
    "\n",
    "# Merge the neighborhood information with the original CSV file\n",
    "    crimes_with_neighborhoods = crimes.merge(crime_neighborhoods, on='ID', how='left')\n",
    "# Save the merged CSV file\n",
    "    crimes_with_neighborhoods.to_csv('Data/Crimes_-_2001_to_Present_with_neighborhoods.csv', index=False)\n",
    "\n",
    "new_data()"
   ]
  },
  {
   "cell_type": "code",
   "execution_count": 2,
   "metadata": {},
   "outputs": [],
   "source": [
    "df = pd.read_csv(\"Data/Crimes_-_2001_to_Present_with_neighborhoods.csv\", delimiter= ',')    \n",
    "df['Date'] = pd.to_datetime(df['Date'])\n",
    "df['time'] = [d.time() for d in df['Date']]\n",
    "df['day'] = df['Date'].dt.day_name()\n",
    "df['month'] = df['Date'].dt.month\n",
    "median_longitude = df[\"Longitude\"].median()\n",
    "df[\"Longitude\"] = df[\"Longitude\"].fillna(median_longitude)\n",
    "median_latitude = df[\"Latitude\"].median()\n",
    "df[\"Latitude\"] = df[\"Latitude\"].fillna(median_latitude)\n",
    "median_xcordinate = df[\"X Coordinate\"]\n",
    "df[\"X Coordinate\"] = df[\"X Coordinate\"].fillna(median_xcordinate)\n",
    "median_ycordinate = df[\"Y Coordinate\"]\n",
    "df[\"Y Coordinate\"] = df[\"Y Coordinate\"].fillna(median_ycordinate)\n",
    "df = df.dropna(subset=[\"X Coordinate\"])\n",
    "df = df.dropna(subset=[\"Y Coordinate\"])\n",
    "df = df.dropna(subset=[\"Location\"])\n",
    "df = df.dropna(subset=[\"Location Description\"])\n",
    "df = df.dropna(subset=[\"Ward\"])\n",
    "df = df.dropna(subset=[\"Zip Codes\"])\n",
    "df = df.dropna(subset=[\"Community Areas\"])\n",
    "df = df.dropna(subset=[\"Historical Wards 2003-2015\"])\n",
    "df = df.dropna(subset=[\"Census Tracts\"])\n",
    "df = df.dropna(subset=[\"Boundaries - ZIP Codes\"])\n",
    "df = df.dropna(subset=[\"Police Districts\"])\n",
    "df = df.dropna(subset=[\"Police Beats\"])\n",
    "df = df.dropna(subset=[\"Arrest\"])\n",
    "df['total_crime'] = df.groupby(['pri_neigh'])['Case Number'].transform('count')\n",
    "df['total_crime'] = df['total_crime'].astype(int)\n",
    "# Save the merged CSV file\n",
    "df.to_csv('Data/Crimes_-_2001_to_Present_modified.csv', index=False)"
   ]
  }
 ],
 "metadata": {
  "kernelspec": {
   "display_name": "Python 3",
   "language": "python",
   "name": "python3"
  },
  "language_info": {
   "codemirror_mode": {
    "name": "ipython",
    "version": 3
   },
   "file_extension": ".py",
   "mimetype": "text/x-python",
   "name": "python",
   "nbconvert_exporter": "python",
   "pygments_lexer": "ipython3",
   "version": "3.11.2"
  },
  "orig_nbformat": 4
 },
 "nbformat": 4,
 "nbformat_minor": 2
}
